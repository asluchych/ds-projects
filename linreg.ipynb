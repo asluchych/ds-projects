{
  "nbformat": 4,
  "nbformat_minor": 0,
  "metadata": {
    "colab": {
      "name": "linreg.ipynb",
      "provenance": [],
      "authorship_tag": "ABX9TyPrwChyKPPqtsBdbpLLJ9fh",
      "include_colab_link": true
    },
    "kernelspec": {
      "name": "python3",
      "display_name": "Python 3"
    },
    "language_info": {
      "name": "python"
    }
  },
  "cells": [
    {
      "cell_type": "markdown",
      "metadata": {
        "id": "view-in-github",
        "colab_type": "text"
      },
      "source": [
        "<a href=\"https://colab.research.google.com/github/asluchych/ds-projects/blob/main/linreg.ipynb\" target=\"_parent\"><img src=\"https://colab.research.google.com/assets/colab-badge.svg\" alt=\"Open In Colab\"/></a>"
      ]
    },
    {
      "cell_type": "code",
      "execution_count": 4,
      "metadata": {
        "id": "i94KcXKPaBxh"
      },
      "outputs": [],
      "source": [
        "from sklearn import datasets\n",
        "from sklearn import linear_model\n",
        "from sklearn.model_selection import train_test_split\n",
        "import matplotlib.pyplot as plt"
      ]
    },
    {
      "cell_type": "code",
      "source": [
        "boston = datasets.load_boston()"
      ],
      "metadata": {
        "id": "Mj2nYETpawLe"
      },
      "execution_count": null,
      "outputs": []
    },
    {
      "cell_type": "code",
      "source": [
        "X = boston.data\n",
        "y = boston.target"
      ],
      "metadata": {
        "id": "UwzwSsZjbEKj"
      },
      "execution_count": 13,
      "outputs": []
    },
    {
      "cell_type": "code",
      "source": [
        "l_reg = linear_model.LinearRegression()"
      ],
      "metadata": {
        "id": "hQudS2FMd8QM"
      },
      "execution_count": 15,
      "outputs": []
    },
    {
      "cell_type": "code",
      "source": [
        "plt.scatter(X.T[5], y)"
      ],
      "metadata": {
        "colab": {
          "base_uri": "https://localhost:8080/",
          "height": 282
        },
        "id": "5jbTj3jreVWZ",
        "outputId": "b391df94-9cad-42d0-8c20-7909c128f2ff"
      },
      "execution_count": 18,
      "outputs": [
        {
          "output_type": "execute_result",
          "data": {
            "text/plain": [
              "<matplotlib.collections.PathCollection at 0x7fb8f3c88850>"
            ]
          },
          "metadata": {},
          "execution_count": 18
        },
        {
          "output_type": "display_data",
          "data": {
            "image/png": "[encoded data removed]",
            "text/plain": [
              "<Figure size 432x288 with 1 Axes>"
            ]
          },
          "metadata": {
            "needs_background": "light"
          }
        }
      ]
    },
    {
      "cell_type": "code",
      "source": [
        "X_train, X_test, y_train, y_test = train_test_split(X, y, test_size = 0.2)"
      ],
      "metadata": {
        "id": "sXzS8BdseutZ"
      },
      "execution_count": 19,
      "outputs": []
    },
    {
      "cell_type": "code",
      "source": [
        "model = l_reg.fit(X_train, y_train)\n",
        "predictions = model.predict(X_test)\n",
        "print(\"Predictions: \", predictions)\n",
        "print()\n",
        "print(\"R^2 value: \", l_reg.score(X, y))\n",
        "print()\n",
        "print(\"Coefficients: \", l_reg.coef_)\n",
        "print()\n",
        "print(\"Intercept: \", l_reg.intercept_)"
      ],
      "metadata": {
        "colab": {
          "base_uri": "https://localhost:8080/"
        },
        "id": "QoawMzMbe6rc",
        "outputId": "97dd0f0d-f59d-4258-df92-7dfbe2362a15"
      },
      "execution_count": 25,
      "outputs": [
        {
          "output_type": "stream",
          "name": "stdout",
          "text": [
            "Predictions:  [30.89502704 20.6075674  16.01421776 31.50074609 17.43163766 28.93992144\n",
            " 20.54432585  5.05561382 25.14116666 23.34264143 22.53590037  9.32125627\n",
            " 26.91325403 19.58626492 36.90934749 17.51199734 20.26821837 32.52947535\n",
            " 22.13862033 22.43539227 12.77679087 15.52643483 22.72872941 20.47267606\n",
            " 24.72720687 19.70959452 11.95386002 13.78357156 21.10483394 22.93271177\n",
            " 21.06934283 32.30328674 29.66783684  5.73218582 29.06385027 21.57366459\n",
            " 15.60854154 30.32982314  0.81038644 20.45799815 37.02892358 22.0642439\n",
            "  6.51869537 17.55884792 20.92885514 39.55737013 25.83706931 16.22175648\n",
            " 13.75582001 22.47399907 16.99201053 41.5004447  24.57073253 19.57787787\n",
            " 30.48734868 31.888764   28.63643174 23.08301375 22.1326734  15.90321019\n",
            " 22.69422151 15.89820665 26.93900134 28.1746742  19.07876295 21.62540265\n",
            " 22.46149994  6.14366579 28.83909941 18.13407169 24.90690255 27.48938586\n",
            " 28.95504407 29.74344851 10.85143156 18.29149472 25.77234882 28.27457529\n",
            " 18.49442997 33.92755185 32.23379886 23.41401835 17.87828135 30.60694493\n",
            " 19.39221304 17.07097657 21.49267034 24.58536229 30.6800694  16.70747491\n",
            " 27.72421734 10.16742273 21.23693227 23.69930662 19.24830797 25.4896701\n",
            " 20.88557521 17.41091855 23.5251143  13.80335991 20.61558599 23.07135184]\n",
            "\n",
            "R^2 value:  0.7391374630739658\n",
            "\n",
            "Coefficients:  [-1.13461532e-01  3.36760480e-02  2.52820204e-03  3.10837011e+00\n",
            " -1.54180929e+01  4.09185231e+00 -1.11448746e-02 -1.40728822e+00\n",
            "  3.01952783e-01 -1.23270654e-02 -9.45868244e-01  1.10808209e-02\n",
            " -4.92155342e-01]\n",
            "\n",
            "Intercept:  33.13359201888564\n"
          ]
        }
      ]
    }
  ]
}