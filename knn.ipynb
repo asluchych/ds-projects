{
  "nbformat": 4,
  "nbformat_minor": 0,
  "metadata": {
    "colab": {
      "name": "knn.ipynb",
      "provenance": [],
      "collapsed_sections": [],
      "authorship_tag": "ABX9TyN6n9149ImvuRXA9NHr9B9a",
      "include_colab_link": true
    },
    "kernelspec": {
      "name": "python3",
      "display_name": "Python 3"
    },
    "language_info": {
      "name": "python"
    }
  },
  "cells": [
    {
      "cell_type": "markdown",
      "metadata": {
        "id": "view-in-github",
        "colab_type": "text"
      },
      "source": [
        "<a href=\"https://colab.research.google.com/github/asluchych/ds-projects/blob/main/knn.ipynb\" target=\"_parent\"><img src=\"https://colab.research.google.com/assets/colab-badge.svg\" alt=\"Open In Colab\"/></a>"
      ]
    },
    {
      "cell_type": "code",
      "source": [
        "import numpy as np\n",
        "import pandas as pd\n",
        "from sklearn.model_selection import train_test_split\n",
        "from sklearn import neighbors, metrics\n",
        "from sklearn.preprocessing import LabelEncoder"
      ],
      "metadata": {
        "id": "ppkX6PRn24-l"
      },
      "execution_count": null,
      "outputs": []
    },
    {
      "cell_type": "code",
      "source": [
        "data = pd.read_csv('car.data')"
      ],
      "metadata": {
        "colab": {
          "base_uri": "https://localhost:8080/"
        },
        "id": "kcmsdcfy2_4D",
        "outputId": "d7a0eb60-06d8-44e5-b36e-b8bf50e638bb"
      },
      "execution_count": null,
      "outputs": [
        {
          "output_type": "stream",
          "name": "stdout",
          "text": [
            "  buying maintenance doors persons lug_boot safety  class\n",
            "0  vhigh       vhigh     2       2    small    low  unacc\n",
            "1  vhigh       vhigh     2       2    small    med  unacc\n",
            "2  vhigh       vhigh     2       2    small   high  unacc\n",
            "3  vhigh       vhigh     2       2      med    low  unacc\n",
            "4  vhigh       vhigh     2       2      med    med  unacc\n"
          ]
        }
      ]
    },
    {
      "cell_type": "code",
      "source": [
        "X = data[[\n",
        "          'buying',\n",
        "          'maintenance',\n",
        "          'safety'\n",
        "]].values\n",
        "y = data[['class']]"
      ],
      "metadata": {
        "id": "5sz-z0KA3Z1b"
      },
      "execution_count": null,
      "outputs": []
    },
    {
      "cell_type": "markdown",
      "source": [
        "converting the data in X"
      ],
      "metadata": {
        "id": "uRaz3RArAzX6"
      }
    },
    {
      "cell_type": "code",
      "source": [
        "Le = LabelEncoder()\n",
        "for i in range(len(X[0])):\n",
        "  X[:, i] = Le.fit_transform(X[:, i])\n"
      ],
      "metadata": {
        "id": "xk3RyN6WA13T"
      },
      "execution_count": null,
      "outputs": []
    },
    {
      "cell_type": "markdown",
      "source": [
        "convering the data in y"
      ],
      "metadata": {
        "id": "-HhzDrQZGLiN"
      }
    },
    {
      "cell_type": "code",
      "source": [
        "label_mapping = {\n",
        "    'unacc':0,\n",
        "    'acc':1,\n",
        "    'good':2,\n",
        "    'vgood':3\n",
        "}\n",
        "\n",
        "y['class'] = y['class'].map(label_mapping)\n",
        "y = np.array(y)\n",
        "print(y)"
      ],
      "metadata": {
        "id": "ppxNfa4JGNrL"
      },
      "execution_count": null,
      "outputs": []
    },
    {
      "cell_type": "markdown",
      "source": [
        "create a model"
      ],
      "metadata": {
        "id": "ZPwiGBHiHX_C"
      }
    },
    {
      "cell_type": "code",
      "source": [
        "knn = neighbors.KNeighborsClassifier(n_neighbors=25, weights = 'uniform')"
      ],
      "metadata": {
        "id": "9qpRBO5yHbpu"
      },
      "execution_count": null,
      "outputs": []
    },
    {
      "cell_type": "markdown",
      "source": [
        "create a train test split"
      ],
      "metadata": {
        "id": "ZRhek_FYH6Dr"
      }
    },
    {
      "cell_type": "code",
      "source": [
        "X_train, X_test, y_train, y_test = train_test_split(X, y, test_size = 0.2)"
      ],
      "metadata": {
        "id": "IKWLe9mq64No"
      },
      "execution_count": null,
      "outputs": []
    },
    {
      "cell_type": "code",
      "source": [
        "knn.fit(X_train, y_train)"
      ],
      "metadata": {
        "id": "77r7HOqT7Njh"
      },
      "execution_count": null,
      "outputs": []
    },
    {
      "cell_type": "code",
      "source": [
        "predictions = knn.predict(X_test)\n",
        "accuracy = metrics.accuracy_score(y_test, predictions)"
      ],
      "metadata": {
        "id": "f4sBM63UIZXc"
      },
      "execution_count": null,
      "outputs": []
    },
    {
      "cell_type": "code",
      "source": [
        "print(\"actual value: \", y[20])\n",
        "print(\"predicted value: \", knn.predict(X)[20])"
      ],
      "metadata": {
        "colab": {
          "base_uri": "https://localhost:8080/"
        },
        "id": "iiPAxkeYJDGi",
        "outputId": "7cb82c88-b0c1-486d-d376-414df0733b44"
      },
      "execution_count": null,
      "outputs": [
        {
          "output_type": "stream",
          "name": "stdout",
          "text": [
            "actual value:  [0]\n",
            "predicted value:  0\n"
          ]
        }
      ]
    }
  ]
}